{
 "cells": [
  {
   "cell_type": "markdown",
   "metadata": {},
   "source": [
    "# Heart Disease Prediction\n"
   ]
  },
  {
   "cell_type": "markdown",
   "metadata": {},
   "source": [
    "### Insights:"
   ]
  },
  {
   "cell_type": "markdown",
   "metadata": {},
   "source": [
    "#### ->The dependent variable is \"heart_desease_present\" and others are independedent variables\n",
    "#### ->We need to predict the patient wheather have a heart desease or not by using this data set\n",
    "#### ->here dataset is small and related to medical field hence we need to analyse each and every feature carefully"
   ]
  },
  {
   "cell_type": "markdown",
   "metadata": {},
   "source": [
    "# 1. Import necessary packages"
   ]
  },
  {
   "cell_type": "code",
   "execution_count": 183,
   "metadata": {},
   "outputs": [],
   "source": [
    "import pandas as pd\n",
    "import numpy as np\n",
    "from scipy import stats\n",
    "import pylab\n",
    "import matplotlib.pyplot as plt\n",
    "import seaborn as sb\n",
    "from sklearn.preprocessing import LabelEncoder\n",
    "from sklearn.feature_selection import VarianceThreshold\n",
    "from sklearn.preprocessing import StandardScaler\n",
    "from collections import Counter\n",
    "from imblearn.over_sampling import SMOTE\n",
    "from sklearn.model_selection import train_test_split\n",
    "from sklearn.linear_model import LogisticRegression\n",
    "from sklearn.metrics import accuracy_score,classification_report,confusion_matrix\n",
    "from sklearn.model_selection import cross_val_score\n",
    "from sklearn.ensemble import RandomForestClassifier\n",
    "from sklearn.model_selection import GridSearchCV"
   ]
  },
  {
   "cell_type": "markdown",
   "metadata": {},
   "source": [
    "# 2. Import Data_Set"
   ]
  },
  {
   "cell_type": "code",
   "execution_count": 119,
   "metadata": {},
   "outputs": [
    {
     "data": {
      "text/html": [
       "<div>\n",
       "<style scoped>\n",
       "    .dataframe tbody tr th:only-of-type {\n",
       "        vertical-align: middle;\n",
       "    }\n",
       "\n",
       "    .dataframe tbody tr th {\n",
       "        vertical-align: top;\n",
       "    }\n",
       "\n",
       "    .dataframe thead th {\n",
       "        text-align: right;\n",
       "    }\n",
       "</style>\n",
       "<table border=\"1\" class=\"dataframe\">\n",
       "  <thead>\n",
       "    <tr style=\"text-align: right;\">\n",
       "      <th></th>\n",
       "      <th>patient_id</th>\n",
       "      <th>slope_of_peak_exercise_st_segment</th>\n",
       "      <th>thal</th>\n",
       "      <th>resting_blood_pressure</th>\n",
       "      <th>chest_pain_type</th>\n",
       "      <th>num_major_vessels</th>\n",
       "      <th>fasting_blood_sugar_gt_120_mg_per_dl</th>\n",
       "      <th>resting_ekg_results</th>\n",
       "      <th>serum_cholesterol_mg_per_dl</th>\n",
       "      <th>oldpeak_eq_st_depression</th>\n",
       "      <th>sex</th>\n",
       "      <th>age</th>\n",
       "      <th>max_heart_rate_achieved</th>\n",
       "      <th>exercise_induced_angina</th>\n",
       "    </tr>\n",
       "  </thead>\n",
       "  <tbody>\n",
       "    <tr>\n",
       "      <th>0</th>\n",
       "      <td>0z64un</td>\n",
       "      <td>1</td>\n",
       "      <td>normal</td>\n",
       "      <td>128</td>\n",
       "      <td>2</td>\n",
       "      <td>0</td>\n",
       "      <td>0</td>\n",
       "      <td>2</td>\n",
       "      <td>308</td>\n",
       "      <td>0.0</td>\n",
       "      <td>1</td>\n",
       "      <td>45</td>\n",
       "      <td>170</td>\n",
       "      <td>0</td>\n",
       "    </tr>\n",
       "    <tr>\n",
       "      <th>1</th>\n",
       "      <td>ryoo3j</td>\n",
       "      <td>2</td>\n",
       "      <td>normal</td>\n",
       "      <td>110</td>\n",
       "      <td>3</td>\n",
       "      <td>0</td>\n",
       "      <td>0</td>\n",
       "      <td>0</td>\n",
       "      <td>214</td>\n",
       "      <td>1.6</td>\n",
       "      <td>0</td>\n",
       "      <td>54</td>\n",
       "      <td>158</td>\n",
       "      <td>0</td>\n",
       "    </tr>\n",
       "    <tr>\n",
       "      <th>2</th>\n",
       "      <td>yt1s1x</td>\n",
       "      <td>1</td>\n",
       "      <td>normal</td>\n",
       "      <td>125</td>\n",
       "      <td>4</td>\n",
       "      <td>3</td>\n",
       "      <td>0</td>\n",
       "      <td>2</td>\n",
       "      <td>304</td>\n",
       "      <td>0.0</td>\n",
       "      <td>1</td>\n",
       "      <td>77</td>\n",
       "      <td>162</td>\n",
       "      <td>1</td>\n",
       "    </tr>\n",
       "    <tr>\n",
       "      <th>3</th>\n",
       "      <td>l2xjde</td>\n",
       "      <td>1</td>\n",
       "      <td>reversible_defect</td>\n",
       "      <td>152</td>\n",
       "      <td>4</td>\n",
       "      <td>0</td>\n",
       "      <td>0</td>\n",
       "      <td>0</td>\n",
       "      <td>223</td>\n",
       "      <td>0.0</td>\n",
       "      <td>1</td>\n",
       "      <td>40</td>\n",
       "      <td>181</td>\n",
       "      <td>0</td>\n",
       "    </tr>\n",
       "    <tr>\n",
       "      <th>4</th>\n",
       "      <td>oyt4ek</td>\n",
       "      <td>3</td>\n",
       "      <td>reversible_defect</td>\n",
       "      <td>178</td>\n",
       "      <td>1</td>\n",
       "      <td>0</td>\n",
       "      <td>0</td>\n",
       "      <td>2</td>\n",
       "      <td>270</td>\n",
       "      <td>4.2</td>\n",
       "      <td>1</td>\n",
       "      <td>59</td>\n",
       "      <td>145</td>\n",
       "      <td>0</td>\n",
       "    </tr>\n",
       "  </tbody>\n",
       "</table>\n",
       "</div>"
      ],
      "text/plain": [
       "  patient_id  slope_of_peak_exercise_st_segment               thal  \\\n",
       "0     0z64un                                  1             normal   \n",
       "1     ryoo3j                                  2             normal   \n",
       "2     yt1s1x                                  1             normal   \n",
       "3     l2xjde                                  1  reversible_defect   \n",
       "4     oyt4ek                                  3  reversible_defect   \n",
       "\n",
       "   resting_blood_pressure  chest_pain_type  num_major_vessels  \\\n",
       "0                     128                2                  0   \n",
       "1                     110                3                  0   \n",
       "2                     125                4                  3   \n",
       "3                     152                4                  0   \n",
       "4                     178                1                  0   \n",
       "\n",
       "   fasting_blood_sugar_gt_120_mg_per_dl  resting_ekg_results  \\\n",
       "0                                     0                    2   \n",
       "1                                     0                    0   \n",
       "2                                     0                    2   \n",
       "3                                     0                    0   \n",
       "4                                     0                    2   \n",
       "\n",
       "   serum_cholesterol_mg_per_dl  oldpeak_eq_st_depression  sex  age  \\\n",
       "0                          308                       0.0    1   45   \n",
       "1                          214                       1.6    0   54   \n",
       "2                          304                       0.0    1   77   \n",
       "3                          223                       0.0    1   40   \n",
       "4                          270                       4.2    1   59   \n",
       "\n",
       "   max_heart_rate_achieved  exercise_induced_angina  \n",
       "0                      170                        0  \n",
       "1                      158                        0  \n",
       "2                      162                        1  \n",
       "3                      181                        0  \n",
       "4                      145                        0  "
      ]
     },
     "execution_count": 119,
     "metadata": {},
     "output_type": "execute_result"
    }
   ],
   "source": [
    "data1 = pd.read_csv(\"values.csv\")\n",
    "data1.head()"
   ]
  },
  {
   "cell_type": "code",
   "execution_count": 120,
   "metadata": {},
   "outputs": [
    {
     "data": {
      "text/html": [
       "<div>\n",
       "<style scoped>\n",
       "    .dataframe tbody tr th:only-of-type {\n",
       "        vertical-align: middle;\n",
       "    }\n",
       "\n",
       "    .dataframe tbody tr th {\n",
       "        vertical-align: top;\n",
       "    }\n",
       "\n",
       "    .dataframe thead th {\n",
       "        text-align: right;\n",
       "    }\n",
       "</style>\n",
       "<table border=\"1\" class=\"dataframe\">\n",
       "  <thead>\n",
       "    <tr style=\"text-align: right;\">\n",
       "      <th></th>\n",
       "      <th>patient_id</th>\n",
       "      <th>heart_disease_present</th>\n",
       "    </tr>\n",
       "  </thead>\n",
       "  <tbody>\n",
       "    <tr>\n",
       "      <th>0</th>\n",
       "      <td>0z64un</td>\n",
       "      <td>0</td>\n",
       "    </tr>\n",
       "    <tr>\n",
       "      <th>1</th>\n",
       "      <td>ryoo3j</td>\n",
       "      <td>0</td>\n",
       "    </tr>\n",
       "    <tr>\n",
       "      <th>2</th>\n",
       "      <td>yt1s1x</td>\n",
       "      <td>1</td>\n",
       "    </tr>\n",
       "    <tr>\n",
       "      <th>3</th>\n",
       "      <td>l2xjde</td>\n",
       "      <td>1</td>\n",
       "    </tr>\n",
       "    <tr>\n",
       "      <th>4</th>\n",
       "      <td>oyt4ek</td>\n",
       "      <td>0</td>\n",
       "    </tr>\n",
       "  </tbody>\n",
       "</table>\n",
       "</div>"
      ],
      "text/plain": [
       "  patient_id  heart_disease_present\n",
       "0     0z64un                      0\n",
       "1     ryoo3j                      0\n",
       "2     yt1s1x                      1\n",
       "3     l2xjde                      1\n",
       "4     oyt4ek                      0"
      ]
     },
     "execution_count": 120,
     "metadata": {},
     "output_type": "execute_result"
    }
   ],
   "source": [
    "data2= pd.read_csv(\"labels.csv\")\n",
    "data2.head()"
   ]
  },
  {
   "cell_type": "markdown",
   "metadata": {},
   "source": [
    "### Merging data_sets\n",
    "we have given data in 2 files so for doing some exploratory data analysis we need data in a single DataFrame .so,merging the two datasets to make it as one dataset\n"
   ]
  },
  {
   "cell_type": "code",
   "execution_count": 121,
   "metadata": {},
   "outputs": [],
   "source": [
    "data = pd.merge(data1,data2)"
   ]
  },
  {
   "cell_type": "code",
   "execution_count": 122,
   "metadata": {},
   "outputs": [
    {
     "data": {
      "text/html": [
       "<div>\n",
       "<style scoped>\n",
       "    .dataframe tbody tr th:only-of-type {\n",
       "        vertical-align: middle;\n",
       "    }\n",
       "\n",
       "    .dataframe tbody tr th {\n",
       "        vertical-align: top;\n",
       "    }\n",
       "\n",
       "    .dataframe thead th {\n",
       "        text-align: right;\n",
       "    }\n",
       "</style>\n",
       "<table border=\"1\" class=\"dataframe\">\n",
       "  <thead>\n",
       "    <tr style=\"text-align: right;\">\n",
       "      <th></th>\n",
       "      <th>patient_id</th>\n",
       "      <th>slope_of_peak_exercise_st_segment</th>\n",
       "      <th>thal</th>\n",
       "      <th>resting_blood_pressure</th>\n",
       "      <th>chest_pain_type</th>\n",
       "      <th>num_major_vessels</th>\n",
       "      <th>fasting_blood_sugar_gt_120_mg_per_dl</th>\n",
       "      <th>resting_ekg_results</th>\n",
       "      <th>serum_cholesterol_mg_per_dl</th>\n",
       "      <th>oldpeak_eq_st_depression</th>\n",
       "      <th>sex</th>\n",
       "      <th>age</th>\n",
       "      <th>max_heart_rate_achieved</th>\n",
       "      <th>exercise_induced_angina</th>\n",
       "      <th>heart_disease_present</th>\n",
       "    </tr>\n",
       "  </thead>\n",
       "  <tbody>\n",
       "    <tr>\n",
       "      <th>0</th>\n",
       "      <td>0z64un</td>\n",
       "      <td>1</td>\n",
       "      <td>normal</td>\n",
       "      <td>128</td>\n",
       "      <td>2</td>\n",
       "      <td>0</td>\n",
       "      <td>0</td>\n",
       "      <td>2</td>\n",
       "      <td>308</td>\n",
       "      <td>0.0</td>\n",
       "      <td>1</td>\n",
       "      <td>45</td>\n",
       "      <td>170</td>\n",
       "      <td>0</td>\n",
       "      <td>0</td>\n",
       "    </tr>\n",
       "    <tr>\n",
       "      <th>1</th>\n",
       "      <td>ryoo3j</td>\n",
       "      <td>2</td>\n",
       "      <td>normal</td>\n",
       "      <td>110</td>\n",
       "      <td>3</td>\n",
       "      <td>0</td>\n",
       "      <td>0</td>\n",
       "      <td>0</td>\n",
       "      <td>214</td>\n",
       "      <td>1.6</td>\n",
       "      <td>0</td>\n",
       "      <td>54</td>\n",
       "      <td>158</td>\n",
       "      <td>0</td>\n",
       "      <td>0</td>\n",
       "    </tr>\n",
       "    <tr>\n",
       "      <th>2</th>\n",
       "      <td>yt1s1x</td>\n",
       "      <td>1</td>\n",
       "      <td>normal</td>\n",
       "      <td>125</td>\n",
       "      <td>4</td>\n",
       "      <td>3</td>\n",
       "      <td>0</td>\n",
       "      <td>2</td>\n",
       "      <td>304</td>\n",
       "      <td>0.0</td>\n",
       "      <td>1</td>\n",
       "      <td>77</td>\n",
       "      <td>162</td>\n",
       "      <td>1</td>\n",
       "      <td>1</td>\n",
       "    </tr>\n",
       "    <tr>\n",
       "      <th>3</th>\n",
       "      <td>l2xjde</td>\n",
       "      <td>1</td>\n",
       "      <td>reversible_defect</td>\n",
       "      <td>152</td>\n",
       "      <td>4</td>\n",
       "      <td>0</td>\n",
       "      <td>0</td>\n",
       "      <td>0</td>\n",
       "      <td>223</td>\n",
       "      <td>0.0</td>\n",
       "      <td>1</td>\n",
       "      <td>40</td>\n",
       "      <td>181</td>\n",
       "      <td>0</td>\n",
       "      <td>1</td>\n",
       "    </tr>\n",
       "    <tr>\n",
       "      <th>4</th>\n",
       "      <td>oyt4ek</td>\n",
       "      <td>3</td>\n",
       "      <td>reversible_defect</td>\n",
       "      <td>178</td>\n",
       "      <td>1</td>\n",
       "      <td>0</td>\n",
       "      <td>0</td>\n",
       "      <td>2</td>\n",
       "      <td>270</td>\n",
       "      <td>4.2</td>\n",
       "      <td>1</td>\n",
       "      <td>59</td>\n",
       "      <td>145</td>\n",
       "      <td>0</td>\n",
       "      <td>0</td>\n",
       "    </tr>\n",
       "  </tbody>\n",
       "</table>\n",
       "</div>"
      ],
      "text/plain": [
       "  patient_id  slope_of_peak_exercise_st_segment               thal  \\\n",
       "0     0z64un                                  1             normal   \n",
       "1     ryoo3j                                  2             normal   \n",
       "2     yt1s1x                                  1             normal   \n",
       "3     l2xjde                                  1  reversible_defect   \n",
       "4     oyt4ek                                  3  reversible_defect   \n",
       "\n",
       "   resting_blood_pressure  chest_pain_type  num_major_vessels  \\\n",
       "0                     128                2                  0   \n",
       "1                     110                3                  0   \n",
       "2                     125                4                  3   \n",
       "3                     152                4                  0   \n",
       "4                     178                1                  0   \n",
       "\n",
       "   fasting_blood_sugar_gt_120_mg_per_dl  resting_ekg_results  \\\n",
       "0                                     0                    2   \n",
       "1                                     0                    0   \n",
       "2                                     0                    2   \n",
       "3                                     0                    0   \n",
       "4                                     0                    2   \n",
       "\n",
       "   serum_cholesterol_mg_per_dl  oldpeak_eq_st_depression  sex  age  \\\n",
       "0                          308                       0.0    1   45   \n",
       "1                          214                       1.6    0   54   \n",
       "2                          304                       0.0    1   77   \n",
       "3                          223                       0.0    1   40   \n",
       "4                          270                       4.2    1   59   \n",
       "\n",
       "   max_heart_rate_achieved  exercise_induced_angina  heart_disease_present  \n",
       "0                      170                        0                      0  \n",
       "1                      158                        0                      0  \n",
       "2                      162                        1                      1  \n",
       "3                      181                        0                      1  \n",
       "4                      145                        0                      0  "
      ]
     },
     "execution_count": 122,
     "metadata": {},
     "output_type": "execute_result"
    }
   ],
   "source": [
    "#printing the top 5 to check wheather the data readed correctly\n",
    "data.head()"
   ]
  },
  {
   "cell_type": "markdown",
   "metadata": {},
   "source": [
    "# 3.Exploratory Data Analysis(EDA)"
   ]
  },
  {
   "cell_type": "code",
   "execution_count": 123,
   "metadata": {},
   "outputs": [
    {
     "data": {
      "text/plain": [
       "(180, 15)"
      ]
     },
     "execution_count": 123,
     "metadata": {},
     "output_type": "execute_result"
    }
   ],
   "source": [
    "#to find shape of data\n",
    "data.shape"
   ]
  },
  {
   "cell_type": "markdown",
   "metadata": {},
   "source": [
    "### Finding is there any NaN value present in our data_set"
   ]
  },
  {
   "cell_type": "code",
   "execution_count": 124,
   "metadata": {
    "scrolled": true
   },
   "outputs": [
    {
     "data": {
      "text/plain": [
       "patient_id                              0\n",
       "slope_of_peak_exercise_st_segment       0\n",
       "thal                                    0\n",
       "resting_blood_pressure                  0\n",
       "chest_pain_type                         0\n",
       "num_major_vessels                       0\n",
       "fasting_blood_sugar_gt_120_mg_per_dl    0\n",
       "resting_ekg_results                     0\n",
       "serum_cholesterol_mg_per_dl             0\n",
       "oldpeak_eq_st_depression                0\n",
       "sex                                     0\n",
       "age                                     0\n",
       "max_heart_rate_achieved                 0\n",
       "exercise_induced_angina                 0\n",
       "heart_disease_present                   0\n",
       "dtype: int64"
      ]
     },
     "execution_count": 124,
     "metadata": {},
     "output_type": "execute_result"
    }
   ],
   "source": [
    "data.isnull().sum()"
   ]
  },
  {
   "cell_type": "markdown",
   "metadata": {},
   "source": [
    "While taking Isnull we got that there is no features with NaN values so we doent need to handle Nan Values"
   ]
  },
  {
   "cell_type": "markdown",
   "metadata": {},
   "source": [
    "### Encoding the data with LabelEncoder\n",
    "our data contains features of object type.so, we need to convert those features into numerical type"
   ]
  },
  {
   "cell_type": "code",
   "execution_count": 125,
   "metadata": {},
   "outputs": [],
   "source": [
    "enc = LabelEncoder()\n",
    "data.thal = enc.fit_transform(data.thal)"
   ]
  },
  {
   "cell_type": "code",
   "execution_count": 126,
   "metadata": {},
   "outputs": [
    {
     "data": {
      "text/html": [
       "<div>\n",
       "<style scoped>\n",
       "    .dataframe tbody tr th:only-of-type {\n",
       "        vertical-align: middle;\n",
       "    }\n",
       "\n",
       "    .dataframe tbody tr th {\n",
       "        vertical-align: top;\n",
       "    }\n",
       "\n",
       "    .dataframe thead th {\n",
       "        text-align: right;\n",
       "    }\n",
       "</style>\n",
       "<table border=\"1\" class=\"dataframe\">\n",
       "  <thead>\n",
       "    <tr style=\"text-align: right;\">\n",
       "      <th></th>\n",
       "      <th>patient_id</th>\n",
       "      <th>slope_of_peak_exercise_st_segment</th>\n",
       "      <th>thal</th>\n",
       "      <th>resting_blood_pressure</th>\n",
       "      <th>chest_pain_type</th>\n",
       "      <th>num_major_vessels</th>\n",
       "      <th>fasting_blood_sugar_gt_120_mg_per_dl</th>\n",
       "      <th>resting_ekg_results</th>\n",
       "      <th>serum_cholesterol_mg_per_dl</th>\n",
       "      <th>oldpeak_eq_st_depression</th>\n",
       "      <th>sex</th>\n",
       "      <th>age</th>\n",
       "      <th>max_heart_rate_achieved</th>\n",
       "      <th>exercise_induced_angina</th>\n",
       "      <th>heart_disease_present</th>\n",
       "    </tr>\n",
       "  </thead>\n",
       "  <tbody>\n",
       "    <tr>\n",
       "      <th>0</th>\n",
       "      <td>0z64un</td>\n",
       "      <td>1</td>\n",
       "      <td>1</td>\n",
       "      <td>128</td>\n",
       "      <td>2</td>\n",
       "      <td>0</td>\n",
       "      <td>0</td>\n",
       "      <td>2</td>\n",
       "      <td>308</td>\n",
       "      <td>0.0</td>\n",
       "      <td>1</td>\n",
       "      <td>45</td>\n",
       "      <td>170</td>\n",
       "      <td>0</td>\n",
       "      <td>0</td>\n",
       "    </tr>\n",
       "    <tr>\n",
       "      <th>1</th>\n",
       "      <td>ryoo3j</td>\n",
       "      <td>2</td>\n",
       "      <td>1</td>\n",
       "      <td>110</td>\n",
       "      <td>3</td>\n",
       "      <td>0</td>\n",
       "      <td>0</td>\n",
       "      <td>0</td>\n",
       "      <td>214</td>\n",
       "      <td>1.6</td>\n",
       "      <td>0</td>\n",
       "      <td>54</td>\n",
       "      <td>158</td>\n",
       "      <td>0</td>\n",
       "      <td>0</td>\n",
       "    </tr>\n",
       "    <tr>\n",
       "      <th>2</th>\n",
       "      <td>yt1s1x</td>\n",
       "      <td>1</td>\n",
       "      <td>1</td>\n",
       "      <td>125</td>\n",
       "      <td>4</td>\n",
       "      <td>3</td>\n",
       "      <td>0</td>\n",
       "      <td>2</td>\n",
       "      <td>304</td>\n",
       "      <td>0.0</td>\n",
       "      <td>1</td>\n",
       "      <td>77</td>\n",
       "      <td>162</td>\n",
       "      <td>1</td>\n",
       "      <td>1</td>\n",
       "    </tr>\n",
       "    <tr>\n",
       "      <th>3</th>\n",
       "      <td>l2xjde</td>\n",
       "      <td>1</td>\n",
       "      <td>2</td>\n",
       "      <td>152</td>\n",
       "      <td>4</td>\n",
       "      <td>0</td>\n",
       "      <td>0</td>\n",
       "      <td>0</td>\n",
       "      <td>223</td>\n",
       "      <td>0.0</td>\n",
       "      <td>1</td>\n",
       "      <td>40</td>\n",
       "      <td>181</td>\n",
       "      <td>0</td>\n",
       "      <td>1</td>\n",
       "    </tr>\n",
       "    <tr>\n",
       "      <th>4</th>\n",
       "      <td>oyt4ek</td>\n",
       "      <td>3</td>\n",
       "      <td>2</td>\n",
       "      <td>178</td>\n",
       "      <td>1</td>\n",
       "      <td>0</td>\n",
       "      <td>0</td>\n",
       "      <td>2</td>\n",
       "      <td>270</td>\n",
       "      <td>4.2</td>\n",
       "      <td>1</td>\n",
       "      <td>59</td>\n",
       "      <td>145</td>\n",
       "      <td>0</td>\n",
       "      <td>0</td>\n",
       "    </tr>\n",
       "  </tbody>\n",
       "</table>\n",
       "</div>"
      ],
      "text/plain": [
       "  patient_id  slope_of_peak_exercise_st_segment  thal  resting_blood_pressure  \\\n",
       "0     0z64un                                  1     1                     128   \n",
       "1     ryoo3j                                  2     1                     110   \n",
       "2     yt1s1x                                  1     1                     125   \n",
       "3     l2xjde                                  1     2                     152   \n",
       "4     oyt4ek                                  3     2                     178   \n",
       "\n",
       "   chest_pain_type  num_major_vessels  fasting_blood_sugar_gt_120_mg_per_dl  \\\n",
       "0                2                  0                                     0   \n",
       "1                3                  0                                     0   \n",
       "2                4                  3                                     0   \n",
       "3                4                  0                                     0   \n",
       "4                1                  0                                     0   \n",
       "\n",
       "   resting_ekg_results  serum_cholesterol_mg_per_dl  oldpeak_eq_st_depression  \\\n",
       "0                    2                          308                       0.0   \n",
       "1                    0                          214                       1.6   \n",
       "2                    2                          304                       0.0   \n",
       "3                    0                          223                       0.0   \n",
       "4                    2                          270                       4.2   \n",
       "\n",
       "   sex  age  max_heart_rate_achieved  exercise_induced_angina  \\\n",
       "0    1   45                      170                        0   \n",
       "1    0   54                      158                        0   \n",
       "2    1   77                      162                        1   \n",
       "3    1   40                      181                        0   \n",
       "4    1   59                      145                        0   \n",
       "\n",
       "   heart_disease_present  \n",
       "0                      0  \n",
       "1                      0  \n",
       "2                      1  \n",
       "3                      1  \n",
       "4                      0  "
      ]
     },
     "execution_count": 126,
     "metadata": {},
     "output_type": "execute_result"
    }
   ],
   "source": [
    "#pirnting the data\n",
    "data.head()"
   ]
  },
  {
   "cell_type": "markdown",
   "metadata": {},
   "source": [
    "# 4.Feature Selection"
   ]
  },
  {
   "cell_type": "markdown",
   "metadata": {},
   "source": [
    "### 1.Dropping features with no impact in target"
   ]
  },
  {
   "cell_type": "markdown",
   "metadata": {},
   "source": [
    "we know that the features like names,id,number will not affect our target hence,we can drop features like that .\n",
    "In our data set we have \"patient_id\" so, we drop it directly"
   ]
  },
  {
   "cell_type": "code",
   "execution_count": 127,
   "metadata": {},
   "outputs": [],
   "source": [
    "data.drop(columns=[\"patient_id\"],inplace=True,axis=1)"
   ]
  },
  {
   "cell_type": "markdown",
   "metadata": {},
   "source": [
    "### 2. Finding variance for dropping features with low variance (less than 0.1)"
   ]
  },
  {
   "cell_type": "markdown",
   "metadata": {},
   "source": [
    "while considering variance if the variance is too low means that feature doent play the major role in finding the Target. so,that low variance features can be dropped "
   ]
  },
  {
   "cell_type": "code",
   "execution_count": 128,
   "metadata": {},
   "outputs": [
    {
     "data": {
      "text/plain": [
       "array([ True,  True,  True,  True,  True,  True,  True,  True,  True,\n",
       "        True,  True,  True,  True,  True])"
      ]
     },
     "execution_count": 128,
     "metadata": {},
     "output_type": "execute_result"
    }
   ],
   "source": [
    "variance  = VarianceThreshold(0.1)\n",
    "variance.fit(data)\n",
    "variance.get_support()"
   ]
  },
  {
   "cell_type": "markdown",
   "metadata": {},
   "source": [
    "while considering threshold variance, variance of  all features are grater than our cut off 0.1 ,hence we cannot drop any features from the data set"
   ]
  },
  {
   "cell_type": "markdown",
   "metadata": {},
   "source": [
    "### 3.Finding correlation to drop features with highly corrilated to each other(Independent features)"
   ]
  },
  {
   "cell_type": "markdown",
   "metadata": {},
   "source": [
    "here we are considering 0.8 as our cutoff and if any features exeeds the cutoff then we can say that they are duplicates of other features so we can remove those duplicates from our data "
   ]
  },
  {
   "cell_type": "code",
   "execution_count": 184,
   "metadata": {},
   "outputs": [
    {
     "data": {
      "text/plain": [
       "<matplotlib.axes._subplots.AxesSubplot at 0x26753d8d580>"
      ]
     },
     "execution_count": 184,
     "metadata": {},
     "output_type": "execute_result"
    },
    {
     "data": {
      "image/png": "[encoded data removed]",
      "text/plain": [
       "<Figure size 864x576 with 2 Axes>"
      ]
     },
     "metadata": {
      "needs_background": "light"
     },
     "output_type": "display_data"
    }
   ],
   "source": [
    "#creating a heat map for finding corrilation easily\n",
    "from matplotlib.pyplot import colormaps\n",
    "plt.rcParams[\"figure.figsize\"] = 12,8\n",
    "correlation = data.corr()\n",
    "sb.heatmap(correlation,annot=True,cmap =\"RdYlGn\")"
   ]
  },
  {
   "cell_type": "markdown",
   "metadata": {},
   "source": [
    "considering heatmap the correlation between the independent feature doent exeeds the cutoff range. so, its clear that there is no featears are duplicate of others so we are not dropping any features"
   ]
  },
  {
   "cell_type": "markdown",
   "metadata": {},
   "source": [
    "### 4.Finding correlation to drop features with low correlation with Target feature(Dependent)"
   ]
  },
  {
   "cell_type": "code",
   "execution_count": 130,
   "metadata": {},
   "outputs": [
    {
     "data": {
      "text/plain": [
       "<matplotlib.axes._subplots.AxesSubplot at 0x26751439e50>"
      ]
     },
     "execution_count": 130,
     "metadata": {},
     "output_type": "execute_result"
    },
    {
     "data": {
      "image/png": "[encoded data removed]",
      "text/plain": [
       "<Figure size 144x576 with 2 Axes>"
      ]
     },
     "metadata": {
      "needs_background": "light"
     },
     "output_type": "display_data"
    }
   ],
   "source": [
    "plt.rcParams[\"figure.figsize\"] = 2,8\n",
    "correlation_dep = data.corr()\n",
    "sb.heatmap(correlation_dep.iloc[:,-1:],annot=True,cmap = \"coolwarm_r\")"
   ]
  },
  {
   "cell_type": "markdown",
   "metadata": {},
   "source": [
    "From the above heat map we can see that there are some features which have very low corrilation with the depended variable so we can drop those features"
   ]
  },
  {
   "cell_type": "code",
   "execution_count": 131,
   "metadata": {
    "scrolled": true
   },
   "outputs": [],
   "source": [
    "#code To drop features from Data_s\n",
    "cor_column_names = correlation_dep.iloc[-1:,].columns.tolist()\n",
    "drop_col_name = []\n",
    "for x,i in enumerate(cor_column_names):\n",
    "    if (-0.1 < correlation_dep.iloc[-1:,x][0] < 0.1):\n",
    "        drop_col_name.append(i)"
   ]
  },
  {
   "cell_type": "code",
   "execution_count": 132,
   "metadata": {},
   "outputs": [
    {
     "name": "stdout",
     "output_type": "stream",
     "text": [
      "['resting_blood_pressure', 'fasting_blood_sugar_gt_120_mg_per_dl', 'serum_cholesterol_mg_per_dl']\n"
     ]
    }
   ],
   "source": [
    "#features with low correlation with target\n",
    "print(drop_col_name)"
   ]
  },
  {
   "cell_type": "markdown",
   "metadata": {},
   "source": [
    "#### Droping low correlation features with target "
   ]
  },
  {
   "cell_type": "code",
   "execution_count": 133,
   "metadata": {},
   "outputs": [],
   "source": [
    "data.drop(columns=drop_col_name,inplace=True)"
   ]
  },
  {
   "cell_type": "code",
   "execution_count": 134,
   "metadata": {},
   "outputs": [
    {
     "data": {
      "text/html": [
       "<div>\n",
       "<style scoped>\n",
       "    .dataframe tbody tr th:only-of-type {\n",
       "        vertical-align: middle;\n",
       "    }\n",
       "\n",
       "    .dataframe tbody tr th {\n",
       "        vertical-align: top;\n",
       "    }\n",
       "\n",
       "    .dataframe thead th {\n",
       "        text-align: right;\n",
       "    }\n",
       "</style>\n",
       "<table border=\"1\" class=\"dataframe\">\n",
       "  <thead>\n",
       "    <tr style=\"text-align: right;\">\n",
       "      <th></th>\n",
       "      <th>slope_of_peak_exercise_st_segment</th>\n",
       "      <th>thal</th>\n",
       "      <th>chest_pain_type</th>\n",
       "      <th>num_major_vessels</th>\n",
       "      <th>resting_ekg_results</th>\n",
       "      <th>oldpeak_eq_st_depression</th>\n",
       "      <th>sex</th>\n",
       "      <th>age</th>\n",
       "      <th>max_heart_rate_achieved</th>\n",
       "      <th>exercise_induced_angina</th>\n",
       "      <th>heart_disease_present</th>\n",
       "    </tr>\n",
       "  </thead>\n",
       "  <tbody>\n",
       "    <tr>\n",
       "      <th>0</th>\n",
       "      <td>1</td>\n",
       "      <td>1</td>\n",
       "      <td>2</td>\n",
       "      <td>0</td>\n",
       "      <td>2</td>\n",
       "      <td>0.0</td>\n",
       "      <td>1</td>\n",
       "      <td>45</td>\n",
       "      <td>170</td>\n",
       "      <td>0</td>\n",
       "      <td>0</td>\n",
       "    </tr>\n",
       "    <tr>\n",
       "      <th>1</th>\n",
       "      <td>2</td>\n",
       "      <td>1</td>\n",
       "      <td>3</td>\n",
       "      <td>0</td>\n",
       "      <td>0</td>\n",
       "      <td>1.6</td>\n",
       "      <td>0</td>\n",
       "      <td>54</td>\n",
       "      <td>158</td>\n",
       "      <td>0</td>\n",
       "      <td>0</td>\n",
       "    </tr>\n",
       "    <tr>\n",
       "      <th>2</th>\n",
       "      <td>1</td>\n",
       "      <td>1</td>\n",
       "      <td>4</td>\n",
       "      <td>3</td>\n",
       "      <td>2</td>\n",
       "      <td>0.0</td>\n",
       "      <td>1</td>\n",
       "      <td>77</td>\n",
       "      <td>162</td>\n",
       "      <td>1</td>\n",
       "      <td>1</td>\n",
       "    </tr>\n",
       "    <tr>\n",
       "      <th>3</th>\n",
       "      <td>1</td>\n",
       "      <td>2</td>\n",
       "      <td>4</td>\n",
       "      <td>0</td>\n",
       "      <td>0</td>\n",
       "      <td>0.0</td>\n",
       "      <td>1</td>\n",
       "      <td>40</td>\n",
       "      <td>181</td>\n",
       "      <td>0</td>\n",
       "      <td>1</td>\n",
       "    </tr>\n",
       "    <tr>\n",
       "      <th>4</th>\n",
       "      <td>3</td>\n",
       "      <td>2</td>\n",
       "      <td>1</td>\n",
       "      <td>0</td>\n",
       "      <td>2</td>\n",
       "      <td>4.2</td>\n",
       "      <td>1</td>\n",
       "      <td>59</td>\n",
       "      <td>145</td>\n",
       "      <td>0</td>\n",
       "      <td>0</td>\n",
       "    </tr>\n",
       "  </tbody>\n",
       "</table>\n",
       "</div>"
      ],
      "text/plain": [
       "   slope_of_peak_exercise_st_segment  thal  chest_pain_type  \\\n",
       "0                                  1     1                2   \n",
       "1                                  2     1                3   \n",
       "2                                  1     1                4   \n",
       "3                                  1     2                4   \n",
       "4                                  3     2                1   \n",
       "\n",
       "   num_major_vessels  resting_ekg_results  oldpeak_eq_st_depression  sex  age  \\\n",
       "0                  0                    2                       0.0    1   45   \n",
       "1                  0                    0                       1.6    0   54   \n",
       "2                  3                    2                       0.0    1   77   \n",
       "3                  0                    0                       0.0    1   40   \n",
       "4                  0                    2                       4.2    1   59   \n",
       "\n",
       "   max_heart_rate_achieved  exercise_induced_angina  heart_disease_present  \n",
       "0                      170                        0                      0  \n",
       "1                      158                        0                      0  \n",
       "2                      162                        1                      1  \n",
       "3                      181                        0                      1  \n",
       "4                      145                        0                      0  "
      ]
     },
     "execution_count": 134,
     "metadata": {},
     "output_type": "execute_result"
    }
   ],
   "source": [
    "data.head()"
   ]
  },
  {
   "cell_type": "markdown",
   "metadata": {},
   "source": [
    "# 5.Checking Normality of the Continues Features"
   ]
  },
  {
   "cell_type": "markdown",
   "metadata": {},
   "source": [
    "We need to find the normality of continues features before modelling . if the features are not normal then we need to normalise those features\n"
   ]
  },
  {
   "cell_type": "code",
   "execution_count": 135,
   "metadata": {},
   "outputs": [],
   "source": [
    "#setting the figure size \n",
    "plt.rcParams[\"figure.figsize\"] = 6,4"
   ]
  },
  {
   "cell_type": "markdown",
   "metadata": {},
   "source": [
    "defining a functtion to print distplot and QQ plot for the independent features"
   ]
  },
  {
   "cell_type": "code",
   "execution_count": 136,
   "metadata": {},
   "outputs": [],
   "source": [
    "\n",
    "def plotting(data,colname):\n",
    "    plt.subplot(1,2,1)\n",
    "    sb.distplot(data[colname])\n",
    "    plt.subplot(1,2,2)\n",
    "    stats.probplot(data[colname],plot=pylab)"
   ]
  },
  {
   "cell_type": "markdown",
   "metadata": {},
   "source": [
    "#### taking features one by one for normality check"
   ]
  },
  {
   "cell_type": "code",
   "execution_count": 137,
   "metadata": {},
   "outputs": [
    {
     "name": "stdout",
     "output_type": "stream",
     "text": [
      " skewness :  0.660585714798187 \n",
      " kertosis :  -0.5242735181877825\n"
     ]
    },
    {
     "data": {
      "image/png": "[encoded data removed]",
      "text/plain": [
       "<Figure size 432x288 with 2 Axes>"
      ]
     },
     "metadata": {
      "needs_background": "light"
     },
     "output_type": "display_data"
    }
   ],
   "source": [
    "# printing the skewness and kurosis and also plotting the graph\n",
    "print(\" skewness : \",stats.skew(data.slope_of_peak_exercise_st_segment),\"\\n\",\"kertosis : \",stats.kurtosis(data.slope_of_peak_exercise_st_segment))\n",
    "plotting(data,\"slope_of_peak_exercise_st_segment\")\n"
   ]
  },
  {
   "cell_type": "markdown",
   "metadata": {},
   "source": [
    "-> Here the data is categorical hence we doesn't need to normalise the data "
   ]
  },
  {
   "cell_type": "code",
   "execution_count": 138,
   "metadata": {},
   "outputs": [
    {
     "name": "stdout",
     "output_type": "stream",
     "text": [
      " skewness :  -0.8421645409638178 \n",
      " kertosis :  -0.30334358168598907\n"
     ]
    },
    {
     "data": {
      "image/png": "[encoded data removed]",
      "text/plain": [
       "<Figure size 432x288 with 2 Axes>"
      ]
     },
     "metadata": {
      "needs_background": "light"
     },
     "output_type": "display_data"
    }
   ],
   "source": [
    "# printing the skewness and kurosis and also plotting the graph\n",
    "print(\" skewness : \",stats.skew(data.chest_pain_type),\"\\n\",\"kertosis : \",stats.kurtosis(data.chest_pain_type))\n",
    "plotting(data,\"chest_pain_type\")"
   ]
  },
  {
   "cell_type": "markdown",
   "metadata": {},
   "source": [
    "-> Here the data is categorical hence we doesn't need to normalise the data "
   ]
  },
  {
   "cell_type": "code",
   "execution_count": 139,
   "metadata": {},
   "outputs": [
    {
     "name": "stdout",
     "output_type": "stream",
     "text": [
      " skewness :  1.1582430715853718 \n",
      " kertosis :  0.10105467293001613\n"
     ]
    },
    {
     "data": {
      "image/png": "[encoded data removed]",
      "text/plain": [
       "<Figure size 432x288 with 2 Axes>"
      ]
     },
     "metadata": {
      "needs_background": "light"
     },
     "output_type": "display_data"
    }
   ],
   "source": [
    "# printing the skewness and kurosis and also plotting the graph\n",
    "print(\" skewness : \",stats.skew(data.num_major_vessels),\"\\n\",\"kertosis : \",stats.kurtosis(data.num_major_vessels))\n",
    "plotting(data,\"num_major_vessels\")"
   ]
  },
  {
   "cell_type": "markdown",
   "metadata": {},
   "source": [
    "-> Here the data is categorical hence we doesn't need to normalise the data "
   ]
  },
  {
   "cell_type": "code",
   "execution_count": 140,
   "metadata": {},
   "outputs": [
    {
     "name": "stdout",
     "output_type": "stream",
     "text": [
      " skewness :  -0.10012405930078504 \n",
      " kertosis :  -1.9843604643366501\n"
     ]
    },
    {
     "data": {
      "image/png": "[encoded data removed]",
      "text/plain": [
       "<Figure size 432x288 with 2 Axes>"
      ]
     },
     "metadata": {
      "needs_background": "light"
     },
     "output_type": "display_data"
    }
   ],
   "source": [
    "# printing the skewness and kurosis and also plotting the graph\n",
    "print(\" skewness : \",stats.skew(data.resting_ekg_results),\"\\n\",\"kertosis : \",stats.kurtosis(data.resting_ekg_results))\n",
    "plotting(data,\"resting_ekg_results\")"
   ]
  },
  {
   "cell_type": "markdown",
   "metadata": {},
   "source": [
    "-> Here the data is categorical hence we doesn't need to normalise the data "
   ]
  },
  {
   "cell_type": "code",
   "execution_count": 141,
   "metadata": {},
   "outputs": [
    {
     "name": "stdout",
     "output_type": "stream",
     "text": [
      " skewness :  1.4948214849547024 \n",
      " kertosis :  3.1202655698924504\n"
     ]
    },
    {
     "data": {
      "image/png": "[encoded data removed]",
      "text/plain": [
       "<Figure size 432x288 with 2 Axes>"
      ]
     },
     "metadata": {
      "needs_background": "light"
     },
     "output_type": "display_data"
    }
   ],
   "source": [
    "# printing the skewness and kurosis and also plotting the graph\n",
    "print(\" skewness : \",stats.skew(data.oldpeak_eq_st_depression),\"\\n\",\"kertosis : \",stats.kurtosis(data.oldpeak_eq_st_depression))\n",
    "plotting(data,\"oldpeak_eq_st_depression\")"
   ]
  },
  {
   "cell_type": "markdown",
   "metadata": {},
   "source": [
    "-> Here the feature is continues but it is not in normal distribution . so, we need to convert the data to normal distribution \n",
    "           "
   ]
  },
  {
   "cell_type": "markdown",
   "metadata": {},
   "source": [
    "-> Here the data is possitively skweed and also has a positive kurtosis"
   ]
  },
  {
   "cell_type": "code",
   "execution_count": 142,
   "metadata": {},
   "outputs": [
    {
     "name": "stdout",
     "output_type": "stream",
     "text": [
      " skewness :  -0.8160261132534429 \n",
      " kertosis :  -1.3341013824884798\n"
     ]
    },
    {
     "data": {
      "image/png": "[encoded data removed]",
      "text/plain": [
       "<Figure size 432x288 with 2 Axes>"
      ]
     },
     "metadata": {
      "needs_background": "light"
     },
     "output_type": "display_data"
    }
   ],
   "source": [
    "# printing the skewness and kurosis and also plotting the graph\n",
    "print(\" skewness : \",stats.skew(data.sex),\"\\n\",\"kertosis : \",stats.kurtosis(data.sex))\n",
    "plotting(data,\"sex\")"
   ]
  },
  {
   "cell_type": "markdown",
   "metadata": {},
   "source": [
    "-> Here the data is categorical hence we doesn't need to normalise the data "
   ]
  },
  {
   "cell_type": "code",
   "execution_count": 143,
   "metadata": {},
   "outputs": [
    {
     "name": "stdout",
     "output_type": "stream",
     "text": [
      " skewness :  -0.19750200100335744 \n",
      " kertosis :  -0.5848578214439546\n"
     ]
    },
    {
     "data": {
      "image/png": "[encoded data removed]",
      "text/plain": [
       "<Figure size 432x288 with 2 Axes>"
      ]
     },
     "metadata": {
      "needs_background": "light"
     },
     "output_type": "display_data"
    }
   ],
   "source": [
    "# printing the skewness and kurosis and also plotting the graph\n",
    "print(\" skewness : \",stats.skew(data.age),\"\\n\",\"kertosis : \",stats.kurtosis(data.age))\n",
    "plotting(data,\"age\")"
   ]
  },
  {
   "cell_type": "markdown",
   "metadata": {},
   "source": [
    "-> Here the feature is continues and we can see that it belongs to a normal distribution from QQ plot and Distplot"
   ]
  },
  {
   "cell_type": "markdown",
   "metadata": {},
   "source": [
    "-> Here the squeness and kurtosis are in range. hence, it belongs to a normal distribution curve"
   ]
  },
  {
   "cell_type": "code",
   "execution_count": 144,
   "metadata": {},
   "outputs": [
    {
     "name": "stdout",
     "output_type": "stream",
     "text": [
      " skewness :  -0.3904163075399945 \n",
      " kertosis :  -0.5028077850377723\n"
     ]
    },
    {
     "data": {
      "image/png": "[encoded data removed]",
      "text/plain": [
       "<Figure size 432x288 with 2 Axes>"
      ]
     },
     "metadata": {
      "needs_background": "light"
     },
     "output_type": "display_data"
    }
   ],
   "source": [
    "# printing the skewness and kurosis and also plotting the graph\n",
    "print(\" skewness : \",stats.skew(data.max_heart_rate_achieved),\"\\n\",\"kertosis : \",stats.kurtosis(data.max_heart_rate_achieved))\n",
    "plotting(data,\"max_heart_rate_achieved\")"
   ]
  },
  {
   "cell_type": "markdown",
   "metadata": {},
   "source": [
    "-> Here the feature is continues and we can see that it belongs to a normal distribution from QQ plot and Distplot"
   ]
  },
  {
   "cell_type": "markdown",
   "metadata": {},
   "source": [
    "-> Here the squeness and kurtosis are in range. hence, it belongs to a normal distribution curve"
   ]
  },
  {
   "cell_type": "code",
   "execution_count": 145,
   "metadata": {},
   "outputs": [
    {
     "name": "stdout",
     "output_type": "stream",
     "text": [
      " skewness :  0.7882318002900207 \n",
      " kertosis :  -1.378690629011553\n"
     ]
    },
    {
     "data": {
      "image/png": "[encoded data removed]",
      "text/plain": [
       "<Figure size 432x288 with 2 Axes>"
      ]
     },
     "metadata": {
      "needs_background": "light"
     },
     "output_type": "display_data"
    }
   ],
   "source": [
    "# printing the skewness and kurosis and also plotting the graph\n",
    "print(\" skewness : \",stats.skew(data.exercise_induced_angina),\"\\n\",\"kertosis : \",stats.kurtosis(data.exercise_induced_angina))\n",
    "plotting(data,\"exercise_induced_angina\")"
   ]
  },
  {
   "cell_type": "markdown",
   "metadata": {},
   "source": [
    "-> Here the data is categorical hence we doesn't need to normalise the data "
   ]
  },
  {
   "cell_type": "markdown",
   "metadata": {},
   "source": [
    "# 6. Normalising the Features"
   ]
  },
  {
   "cell_type": "markdown",
   "metadata": {},
   "source": [
    "#### while considering QQ plot there is only one feature which is not belongs to normal distribution:  \" oldpeak_eq_st_depression \""
   ]
  },
  {
   "cell_type": "markdown",
   "metadata": {},
   "source": [
    "changing the feature \"oldpeak_eq_st_depression\" with respect to squareroot formatting to make the feature to normal distribution"
   ]
  },
  {
   "cell_type": "code",
   "execution_count": 146,
   "metadata": {},
   "outputs": [],
   "source": [
    "#taking the square root and changing the Feature with respect to square root\n",
    "data[\"oldpeak_eq_st_depression\"] = data.oldpeak_eq_st_depression ** (1/2)"
   ]
  },
  {
   "cell_type": "code",
   "execution_count": 147,
   "metadata": {},
   "outputs": [
    {
     "data": {
      "image/png": "[encoded data removed]",
      "text/plain": [
       "<Figure size 432x288 with 2 Axes>"
      ]
     },
     "metadata": {
      "needs_background": "light"
     },
     "output_type": "display_data"
    }
   ],
   "source": [
    "plotting(data,\"oldpeak_eq_st_depression\")"
   ]
  },
  {
   "cell_type": "code",
   "execution_count": 148,
   "metadata": {},
   "outputs": [
    {
     "name": "stdout",
     "output_type": "stream",
     "text": [
      " skewness :  0.14135733098338193 \n",
      " kertosis :  -1.0327004031254725\n"
     ]
    }
   ],
   "source": [
    "print(\" skewness : \",stats.skew(data.oldpeak_eq_st_depression),\"\\n\",\"kertosis : \",stats.kurtosis(data.oldpeak_eq_st_depression))"
   ]
  },
  {
   "cell_type": "markdown",
   "metadata": {},
   "source": [
    "-> Here we changed the squeness and kurtosis in range hence our feature is now normalised according to square root transformation technique"
   ]
  },
  {
   "cell_type": "markdown",
   "metadata": {},
   "source": [
    "-> hence our feature is normalised under squeness and kurtosis "
   ]
  },
  {
   "cell_type": "markdown",
   "metadata": {},
   "source": [
    "# 7.Handling Outliers "
   ]
  },
  {
   "cell_type": "markdown",
   "metadata": {},
   "source": [
    "### while considering outliers we need to take all the features with continues distribution :\n",
    "     Here we have 3 features with continues distribution : oldpeak_eq_st_depression,max_heart_rate_achieved,age"
   ]
  },
  {
   "cell_type": "markdown",
   "metadata": {},
   "source": [
    "#### --considering feature : \"Age\""
   ]
  },
  {
   "cell_type": "code",
   "execution_count": 149,
   "metadata": {},
   "outputs": [
    {
     "name": "stdout",
     "output_type": "stream",
     "text": [
      "              mean :  54.81111111111111\n",
      "standard_deviation :  9.334736526603468\n"
     ]
    }
   ],
   "source": [
    "#finding mean and standard deviation for finding lower and upper boundary\n",
    "mean = data.age.mean()\n",
    "standard_deviation = data.age.std()\n",
    "print(\"              mean : \",mean)\n",
    "print(\"standard_deviation : \",standard_deviation)"
   ]
  },
  {
   "cell_type": "markdown",
   "metadata": {},
   "source": [
    "here we are taking +3 sigma to -3 sigma as our range and considering values exeeds 3 sigma as outliers. first we find the lower and upper boundery then consider the outliers"
   ]
  },
  {
   "cell_type": "code",
   "execution_count": 150,
   "metadata": {},
   "outputs": [
    {
     "name": "stdout",
     "output_type": "stream",
     "text": [
      "lower_boundary :  26.806901531300706\n",
      "upper_boundary :  82.81532069092151\n"
     ]
    }
   ],
   "source": [
    "#lower boundary and upper boundary\n",
    "lower_boundary = mean - (3 * standard_deviation)\n",
    "upper_boundary = mean + (3 * standard_deviation)\n",
    "print(\"lower_boundary : \", lower_boundary)\n",
    "print(\"upper_boundary : \", upper_boundary)"
   ]
  },
  {
   "cell_type": "markdown",
   "metadata": {},
   "source": [
    "We know that age factor will not come negative ,so need to consider upper boundary only."
   ]
  },
  {
   "cell_type": "markdown",
   "metadata": {},
   "source": [
    "-> Here we are not dropping the outliers because our data is too small .so we converting the outlier value to the upper    boundary value"
   ]
  },
  {
   "cell_type": "code",
   "execution_count": 151,
   "metadata": {},
   "outputs": [],
   "source": [
    "data.loc[data.age > upper_boundary,\"age\"] = upper_boundary"
   ]
  },
  {
   "cell_type": "code",
   "execution_count": 152,
   "metadata": {},
   "outputs": [
    {
     "data": {
      "text/plain": [
       "<matplotlib.axes._subplots.AxesSubplot at 0x267523195e0>"
      ]
     },
     "execution_count": 152,
     "metadata": {},
     "output_type": "execute_result"
    },
    {
     "data": {
      "image/png": "[encoded data removed]",
      "text/plain": [
       "<Figure size 432x288 with 1 Axes>"
      ]
     },
     "metadata": {
      "needs_background": "light"
     },
     "output_type": "display_data"
    }
   ],
   "source": [
    "sb.boxplot(data.age)"
   ]
  },
  {
   "cell_type": "markdown",
   "metadata": {},
   "source": [
    "-> From the above box plot it is clear that all the outliers are cleared "
   ]
  },
  {
   "cell_type": "markdown",
   "metadata": {},
   "source": [
    "#### --considering feature :\"max_heart_rate_achieved\""
   ]
  },
  {
   "cell_type": "code",
   "execution_count": 153,
   "metadata": {},
   "outputs": [
    {
     "name": "stdout",
     "output_type": "stream",
     "text": [
      "              mean :  149.48333333333332\n",
      "standard_deviation :  22.0635129422301\n"
     ]
    }
   ],
   "source": [
    "#finding mean and standard deviation for finding lower and upper boundary\n",
    "mean = data.max_heart_rate_achieved.mean()\n",
    "standard_deviation = data.max_heart_rate_achieved.std()\n",
    "print(\"              mean : \",mean)\n",
    "print(\"standard_deviation : \",standard_deviation)"
   ]
  },
  {
   "cell_type": "markdown",
   "metadata": {},
   "source": [
    "here we are taking +3 sigma to -3 sigma as our range and considering values exeeds 3 sigma as outliers. first we find the lower and upper boundery then consider the outliers"
   ]
  },
  {
   "cell_type": "code",
   "execution_count": 154,
   "metadata": {},
   "outputs": [
    {
     "name": "stdout",
     "output_type": "stream",
     "text": [
      "lower_boundary :  83.29279450664302\n",
      "upper_boundary :  215.67387216002362\n"
     ]
    }
   ],
   "source": [
    "#lower boundary and upper boundary\n",
    "lower_boundary = mean - (3 * standard_deviation)\n",
    "upper_boundary = mean + (3 * standard_deviation)\n",
    "print(\"lower_boundary : \", lower_boundary)\n",
    "print(\"upper_boundary : \", upper_boundary)"
   ]
  },
  {
   "cell_type": "markdown",
   "metadata": {},
   "source": [
    "We know that heart rate feature will not come negative ,so need to consider upper boundary only."
   ]
  },
  {
   "cell_type": "markdown",
   "metadata": {},
   "source": [
    "-> Here we are not dropping the outliers because our data is too small .so we converting the outlier value to the upper    boundary value"
   ]
  },
  {
   "cell_type": "code",
   "execution_count": 155,
   "metadata": {},
   "outputs": [],
   "source": [
    "data.loc[data.max_heart_rate_achieved > upper_boundary,\"max_heart_rate_achieved\"] = upper_boundary"
   ]
  },
  {
   "cell_type": "code",
   "execution_count": 156,
   "metadata": {},
   "outputs": [
    {
     "data": {
      "text/plain": [
       "<matplotlib.axes._subplots.AxesSubplot at 0x267523ac790>"
      ]
     },
     "execution_count": 156,
     "metadata": {},
     "output_type": "execute_result"
    },
    {
     "data": {
      "image/png": "[encoded data removed]",
      "text/plain": [
       "<Figure size 432x288 with 1 Axes>"
      ]
     },
     "metadata": {
      "needs_background": "light"
     },
     "output_type": "display_data"
    }
   ],
   "source": [
    "sb.boxplot(data.max_heart_rate_achieved)"
   ]
  },
  {
   "cell_type": "markdown",
   "metadata": {},
   "source": [
    "-> From the above box plot it is clear that all the outliers are cleared "
   ]
  },
  {
   "cell_type": "markdown",
   "metadata": {},
   "source": [
    "#### --considering feature :\"oldpeak_eq_st_depression\""
   ]
  },
  {
   "cell_type": "code",
   "execution_count": 157,
   "metadata": {},
   "outputs": [
    {
     "name": "stdout",
     "output_type": "stream",
     "text": [
      "              mean :  0.7783753105098453\n",
      "standard_deviation :  0.6374869378789595\n"
     ]
    }
   ],
   "source": [
    "#finding mean and standard deviation for finding lower and upper boundary\n",
    "mean = data.oldpeak_eq_st_depression.mean()\n",
    "standard_deviation = data.oldpeak_eq_st_depression.std()\n",
    "print(\"              mean : \",mean)\n",
    "print(\"standard_deviation : \",standard_deviation)"
   ]
  },
  {
   "cell_type": "markdown",
   "metadata": {},
   "source": [
    "here we are taking +3 sigma to -3 sigma as our range and considering values exeeds 3 sigma as outliers. first we find the lower and upper boundery then consider the outliers"
   ]
  },
  {
   "cell_type": "code",
   "execution_count": 158,
   "metadata": {},
   "outputs": [
    {
     "name": "stdout",
     "output_type": "stream",
     "text": [
      "lower_boundary :  -1.1340855031270332\n",
      "upper_boundary :  2.690836124146724\n"
     ]
    }
   ],
   "source": [
    "#lower boundary and upper boundary\n",
    "lower_boundary = mean - (3 * standard_deviation)\n",
    "upper_boundary = mean + (3 * standard_deviation)\n",
    "print(\"lower_boundary : \", lower_boundary)\n",
    "print(\"upper_boundary : \", upper_boundary)"
   ]
  },
  {
   "cell_type": "markdown",
   "metadata": {},
   "source": [
    "here the minimum is zero hence this feature will not come negative ,so need to consider upper boundary only."
   ]
  },
  {
   "cell_type": "markdown",
   "metadata": {},
   "source": [
    "-> Here we are not dropping the outliers because our data is too small .so we converting the outlier value to the upper    boundary value"
   ]
  },
  {
   "cell_type": "code",
   "execution_count": 159,
   "metadata": {},
   "outputs": [],
   "source": [
    "data.loc[data.oldpeak_eq_st_depression > upper_boundary,\"oldpeak_eq_st_depression\"] = upper_boundary"
   ]
  },
  {
   "cell_type": "code",
   "execution_count": 160,
   "metadata": {},
   "outputs": [
    {
     "data": {
      "text/plain": [
       "<matplotlib.axes._subplots.AxesSubplot at 0x2675225e5e0>"
      ]
     },
     "execution_count": 160,
     "metadata": {},
     "output_type": "execute_result"
    },
    {
     "data": {
      "image/png": "[encoded data removed]",
      "text/plain": [
       "<Figure size 432x288 with 1 Axes>"
      ]
     },
     "metadata": {
      "needs_background": "light"
     },
     "output_type": "display_data"
    }
   ],
   "source": [
    "sb.boxplot(data.oldpeak_eq_st_depression)"
   ]
  },
  {
   "cell_type": "markdown",
   "metadata": {},
   "source": [
    "-> From the above box plot it is clear that all the outliers are cleared"
   ]
  },
  {
   "cell_type": "markdown",
   "metadata": {},
   "source": [
    "# 8. Define X and Y"
   ]
  },
  {
   "cell_type": "code",
   "execution_count": 161,
   "metadata": {},
   "outputs": [],
   "source": [
    "X = data.iloc[:,:-1]\n",
    "y = data.heart_disease_present"
   ]
  },
  {
   "cell_type": "code",
   "execution_count": 162,
   "metadata": {},
   "outputs": [
    {
     "data": {
      "text/html": [
       "<div>\n",
       "<style scoped>\n",
       "    .dataframe tbody tr th:only-of-type {\n",
       "        vertical-align: middle;\n",
       "    }\n",
       "\n",
       "    .dataframe tbody tr th {\n",
       "        vertical-align: top;\n",
       "    }\n",
       "\n",
       "    .dataframe thead th {\n",
       "        text-align: right;\n",
       "    }\n",
       "</style>\n",
       "<table border=\"1\" class=\"dataframe\">\n",
       "  <thead>\n",
       "    <tr style=\"text-align: right;\">\n",
       "      <th></th>\n",
       "      <th>slope_of_peak_exercise_st_segment</th>\n",
       "      <th>thal</th>\n",
       "      <th>chest_pain_type</th>\n",
       "      <th>num_major_vessels</th>\n",
       "      <th>resting_ekg_results</th>\n",
       "      <th>oldpeak_eq_st_depression</th>\n",
       "      <th>sex</th>\n",
       "      <th>age</th>\n",
       "      <th>max_heart_rate_achieved</th>\n",
       "      <th>exercise_induced_angina</th>\n",
       "    </tr>\n",
       "  </thead>\n",
       "  <tbody>\n",
       "    <tr>\n",
       "      <th>0</th>\n",
       "      <td>1</td>\n",
       "      <td>1</td>\n",
       "      <td>2</td>\n",
       "      <td>0</td>\n",
       "      <td>2</td>\n",
       "      <td>0.000000</td>\n",
       "      <td>1</td>\n",
       "      <td>45.0</td>\n",
       "      <td>170.0</td>\n",
       "      <td>0</td>\n",
       "    </tr>\n",
       "    <tr>\n",
       "      <th>1</th>\n",
       "      <td>2</td>\n",
       "      <td>1</td>\n",
       "      <td>3</td>\n",
       "      <td>0</td>\n",
       "      <td>0</td>\n",
       "      <td>1.264911</td>\n",
       "      <td>0</td>\n",
       "      <td>54.0</td>\n",
       "      <td>158.0</td>\n",
       "      <td>0</td>\n",
       "    </tr>\n",
       "    <tr>\n",
       "      <th>2</th>\n",
       "      <td>1</td>\n",
       "      <td>1</td>\n",
       "      <td>4</td>\n",
       "      <td>3</td>\n",
       "      <td>2</td>\n",
       "      <td>0.000000</td>\n",
       "      <td>1</td>\n",
       "      <td>77.0</td>\n",
       "      <td>162.0</td>\n",
       "      <td>1</td>\n",
       "    </tr>\n",
       "    <tr>\n",
       "      <th>3</th>\n",
       "      <td>1</td>\n",
       "      <td>2</td>\n",
       "      <td>4</td>\n",
       "      <td>0</td>\n",
       "      <td>0</td>\n",
       "      <td>0.000000</td>\n",
       "      <td>1</td>\n",
       "      <td>40.0</td>\n",
       "      <td>181.0</td>\n",
       "      <td>0</td>\n",
       "    </tr>\n",
       "    <tr>\n",
       "      <th>4</th>\n",
       "      <td>3</td>\n",
       "      <td>2</td>\n",
       "      <td>1</td>\n",
       "      <td>0</td>\n",
       "      <td>2</td>\n",
       "      <td>2.049390</td>\n",
       "      <td>1</td>\n",
       "      <td>59.0</td>\n",
       "      <td>145.0</td>\n",
       "      <td>0</td>\n",
       "    </tr>\n",
       "  </tbody>\n",
       "</table>\n",
       "</div>"
      ],
      "text/plain": [
       "   slope_of_peak_exercise_st_segment  thal  chest_pain_type  \\\n",
       "0                                  1     1                2   \n",
       "1                                  2     1                3   \n",
       "2                                  1     1                4   \n",
       "3                                  1     2                4   \n",
       "4                                  3     2                1   \n",
       "\n",
       "   num_major_vessels  resting_ekg_results  oldpeak_eq_st_depression  sex  \\\n",
       "0                  0                    2                  0.000000    1   \n",
       "1                  0                    0                  1.264911    0   \n",
       "2                  3                    2                  0.000000    1   \n",
       "3                  0                    0                  0.000000    1   \n",
       "4                  0                    2                  2.049390    1   \n",
       "\n",
       "    age  max_heart_rate_achieved  exercise_induced_angina  \n",
       "0  45.0                    170.0                        0  \n",
       "1  54.0                    158.0                        0  \n",
       "2  77.0                    162.0                        1  \n",
       "3  40.0                    181.0                        0  \n",
       "4  59.0                    145.0                        0  "
      ]
     },
     "execution_count": 162,
     "metadata": {},
     "output_type": "execute_result"
    }
   ],
   "source": [
    "X.head()"
   ]
  },
  {
   "cell_type": "markdown",
   "metadata": {},
   "source": [
    "# 9.Scalling using standard scalar\n",
    "here the features are of different values so we need to do scaling"
   ]
  },
  {
   "cell_type": "code",
   "execution_count": 163,
   "metadata": {},
   "outputs": [],
   "source": [
    "column_names= X.columns\n",
    "scale = StandardScaler()\n",
    "X = scale.fit_transform(X)"
   ]
  },
  {
   "cell_type": "code",
   "execution_count": 164,
   "metadata": {},
   "outputs": [
    {
     "data": {
      "text/html": [
       "<div>\n",
       "<style scoped>\n",
       "    .dataframe tbody tr th:only-of-type {\n",
       "        vertical-align: middle;\n",
       "    }\n",
       "\n",
       "    .dataframe tbody tr th {\n",
       "        vertical-align: top;\n",
       "    }\n",
       "\n",
       "    .dataframe thead th {\n",
       "        text-align: right;\n",
       "    }\n",
       "</style>\n",
       "<table border=\"1\" class=\"dataframe\">\n",
       "  <thead>\n",
       "    <tr style=\"text-align: right;\">\n",
       "      <th></th>\n",
       "      <th>slope_of_peak_exercise_st_segment</th>\n",
       "      <th>thal</th>\n",
       "      <th>chest_pain_type</th>\n",
       "      <th>num_major_vessels</th>\n",
       "      <th>resting_ekg_results</th>\n",
       "      <th>oldpeak_eq_st_depression</th>\n",
       "      <th>sex</th>\n",
       "      <th>age</th>\n",
       "      <th>max_heart_rate_achieved</th>\n",
       "      <th>exercise_induced_angina</th>\n",
       "    </tr>\n",
       "  </thead>\n",
       "  <tbody>\n",
       "    <tr>\n",
       "      <th>0</th>\n",
       "      <td>-0.891241</td>\n",
       "      <td>-0.647059</td>\n",
       "      <td>-1.234775</td>\n",
       "      <td>-0.718403</td>\n",
       "      <td>0.953850</td>\n",
       "      <td>-1.224412</td>\n",
       "      <td>0.672022</td>\n",
       "      <td>-1.053964</td>\n",
       "      <td>0.932485</td>\n",
       "      <td>-0.680746</td>\n",
       "    </tr>\n",
       "    <tr>\n",
       "      <th>1</th>\n",
       "      <td>0.729197</td>\n",
       "      <td>-0.647059</td>\n",
       "      <td>-0.166220</td>\n",
       "      <td>-0.718403</td>\n",
       "      <td>-1.054255</td>\n",
       "      <td>0.765338</td>\n",
       "      <td>-1.488048</td>\n",
       "      <td>-0.087134</td>\n",
       "      <td>0.387084</td>\n",
       "      <td>-0.680746</td>\n",
       "    </tr>\n",
       "    <tr>\n",
       "      <th>2</th>\n",
       "      <td>-0.891241</td>\n",
       "      <td>-0.647059</td>\n",
       "      <td>0.902335</td>\n",
       "      <td>2.385097</td>\n",
       "      <td>0.953850</td>\n",
       "      <td>-1.224412</td>\n",
       "      <td>0.672022</td>\n",
       "      <td>2.383654</td>\n",
       "      <td>0.568884</td>\n",
       "      <td>1.468977</td>\n",
       "    </tr>\n",
       "    <tr>\n",
       "      <th>3</th>\n",
       "      <td>-0.891241</td>\n",
       "      <td>1.117647</td>\n",
       "      <td>0.902335</td>\n",
       "      <td>-0.718403</td>\n",
       "      <td>-1.054255</td>\n",
       "      <td>-1.224412</td>\n",
       "      <td>0.672022</td>\n",
       "      <td>-1.591092</td>\n",
       "      <td>1.432436</td>\n",
       "      <td>-0.680746</td>\n",
       "    </tr>\n",
       "    <tr>\n",
       "      <th>4</th>\n",
       "      <td>2.349636</td>\n",
       "      <td>1.117647</td>\n",
       "      <td>-2.303330</td>\n",
       "      <td>-0.718403</td>\n",
       "      <td>0.953850</td>\n",
       "      <td>1.999351</td>\n",
       "      <td>0.672022</td>\n",
       "      <td>0.449994</td>\n",
       "      <td>-0.203768</td>\n",
       "      <td>-0.680746</td>\n",
       "    </tr>\n",
       "  </tbody>\n",
       "</table>\n",
       "</div>"
      ],
      "text/plain": [
       "   slope_of_peak_exercise_st_segment      thal  chest_pain_type  \\\n",
       "0                          -0.891241 -0.647059        -1.234775   \n",
       "1                           0.729197 -0.647059        -0.166220   \n",
       "2                          -0.891241 -0.647059         0.902335   \n",
       "3                          -0.891241  1.117647         0.902335   \n",
       "4                           2.349636  1.117647        -2.303330   \n",
       "\n",
       "   num_major_vessels  resting_ekg_results  oldpeak_eq_st_depression       sex  \\\n",
       "0          -0.718403             0.953850                 -1.224412  0.672022   \n",
       "1          -0.718403            -1.054255                  0.765338 -1.488048   \n",
       "2           2.385097             0.953850                 -1.224412  0.672022   \n",
       "3          -0.718403            -1.054255                 -1.224412  0.672022   \n",
       "4          -0.718403             0.953850                  1.999351  0.672022   \n",
       "\n",
       "        age  max_heart_rate_achieved  exercise_induced_angina  \n",
       "0 -1.053964                 0.932485                -0.680746  \n",
       "1 -0.087134                 0.387084                -0.680746  \n",
       "2  2.383654                 0.568884                 1.468977  \n",
       "3 -1.591092                 1.432436                -0.680746  \n",
       "4  0.449994                -0.203768                -0.680746  "
      ]
     },
     "execution_count": 164,
     "metadata": {},
     "output_type": "execute_result"
    }
   ],
   "source": [
    "#converting back to data frame from array\n",
    "X = pd.DataFrame(X,columns=column_names)\n",
    "X.head()"
   ]
  },
  {
   "cell_type": "markdown",
   "metadata": {},
   "source": [
    "# 10.Train_Test_Split"
   ]
  },
  {
   "cell_type": "markdown",
   "metadata": {},
   "source": [
    "splitting the data according to train test split at random state 13 and test size as 0.2"
   ]
  },
  {
   "cell_type": "code",
   "execution_count": 165,
   "metadata": {},
   "outputs": [],
   "source": [
    "X_train,X_test,y_train,y_test = train_test_split(X,y,random_state =10,test_size =0.25)"
   ]
  },
  {
   "cell_type": "markdown",
   "metadata": {},
   "source": [
    "# 11.Checking Target Feature is Balaced or NOT"
   ]
  },
  {
   "cell_type": "markdown",
   "metadata": {},
   "source": [
    "If data is not balanced we need to balance the data using over sampling technique"
   ]
  },
  {
   "cell_type": "code",
   "execution_count": 166,
   "metadata": {},
   "outputs": [
    {
     "name": "stdout",
     "output_type": "stream",
     "text": [
      "Counter({0: 100, 1: 80})\n"
     ]
    },
    {
     "data": {
      "image/png": "[encoded data removed]",
      "text/plain": [
       "<Figure size 432x288 with 1 Axes>"
      ]
     },
     "metadata": {
      "needs_background": "light"
     },
     "output_type": "display_data"
    }
   ],
   "source": [
    "#printing the count and plotting the count plot\n",
    "print(Counter(data.heart_disease_present))\n",
    "sb.countplot(data.heart_disease_present)\n",
    "plt.show()"
   ]
  },
  {
   "cell_type": "markdown",
   "metadata": {},
   "source": [
    "-> Here we can see that our data is slightly unbalanced . here our data sets is too small so we need to balance the data"
   ]
  },
  {
   "cell_type": "markdown",
   "metadata": {},
   "source": [
    "### Balancing the data using SMOTE"
   ]
  },
  {
   "cell_type": "markdown",
   "metadata": {},
   "source": [
    "here we have only 180 data points in total in which 100 belongs to \"0\" and 80 belongs to \"1\".hence there is a 20% differnce btween 2 categories "
   ]
  },
  {
   "cell_type": "code",
   "execution_count": 167,
   "metadata": {},
   "outputs": [
    {
     "data": {
      "text/plain": [
       "Counter({1: 72, 0: 72})"
      ]
     },
     "execution_count": 167,
     "metadata": {},
     "output_type": "execute_result"
    }
   ],
   "source": [
    "model_Bal = SMOTE(k_neighbors=2)\n",
    "X_train_smote,y_train_smote = model_Bal.fit_sample(X_train,y_train)\n",
    "Counter(y_train_smote)"
   ]
  },
  {
   "cell_type": "markdown",
   "metadata": {},
   "source": [
    "# 12.Modelling using dataset\n",
    "Here we are considering logistic regression as our ML model"
   ]
  },
  {
   "cell_type": "code",
   "execution_count": 168,
   "metadata": {},
   "outputs": [],
   "source": [
    "#modelling\n",
    "model =LogisticRegression(random_state=10)\n",
    "model.fit(X_train_smote,y_train_smote)\n",
    "y_predict = model.predict(X_test)\n"
   ]
  },
  {
   "cell_type": "markdown",
   "metadata": {},
   "source": [
    "# 13.Evaluation "
   ]
  },
  {
   "cell_type": "markdown",
   "metadata": {},
   "source": [
    "### ->Acuuracy_Score"
   ]
  },
  {
   "cell_type": "code",
   "execution_count": 169,
   "metadata": {},
   "outputs": [
    {
     "data": {
      "text/plain": [
       "0.8444444444444444"
      ]
     },
     "execution_count": 169,
     "metadata": {},
     "output_type": "execute_result"
    }
   ],
   "source": [
    "accuracy_score(y_test,y_predict)"
   ]
  },
  {
   "cell_type": "markdown",
   "metadata": {},
   "source": [
    "hence according to logistic regression 84.4 % is a better score "
   ]
  },
  {
   "cell_type": "markdown",
   "metadata": {},
   "source": [
    "### ->Cross_Tab"
   ]
  },
  {
   "cell_type": "code",
   "execution_count": 170,
   "metadata": {},
   "outputs": [
    {
     "data": {
      "text/html": [
       "<div>\n",
       "<style scoped>\n",
       "    .dataframe tbody tr th:only-of-type {\n",
       "        vertical-align: middle;\n",
       "    }\n",
       "\n",
       "    .dataframe tbody tr th {\n",
       "        vertical-align: top;\n",
       "    }\n",
       "\n",
       "    .dataframe thead th {\n",
       "        text-align: right;\n",
       "    }\n",
       "</style>\n",
       "<table border=\"1\" class=\"dataframe\">\n",
       "  <thead>\n",
       "    <tr style=\"text-align: right;\">\n",
       "      <th>col_0</th>\n",
       "      <th>0</th>\n",
       "      <th>1</th>\n",
       "    </tr>\n",
       "    <tr>\n",
       "      <th>heart_disease_present</th>\n",
       "      <th></th>\n",
       "      <th></th>\n",
       "    </tr>\n",
       "  </thead>\n",
       "  <tbody>\n",
       "    <tr>\n",
       "      <th>0</th>\n",
       "      <td>24</td>\n",
       "      <td>4</td>\n",
       "    </tr>\n",
       "    <tr>\n",
       "      <th>1</th>\n",
       "      <td>3</td>\n",
       "      <td>14</td>\n",
       "    </tr>\n",
       "  </tbody>\n",
       "</table>\n",
       "</div>"
      ],
      "text/plain": [
       "col_0                   0   1\n",
       "heart_disease_present        \n",
       "0                      24   4\n",
       "1                       3  14"
      ]
     },
     "execution_count": 170,
     "metadata": {},
     "output_type": "execute_result"
    }
   ],
   "source": [
    "pd.crosstab(y_test,y_predict)"
   ]
  },
  {
   "cell_type": "markdown",
   "metadata": {},
   "source": [
    "Here ,\n",
    "from \"0\"s 24 are correctly predicted and 4 are misspredicted as \"1\"s"
   ]
  },
  {
   "cell_type": "markdown",
   "metadata": {},
   "source": [
    "from \"1\"s 14 are correctly predicted and 3 are misspredicted as \"0\"s "
   ]
  },
  {
   "cell_type": "markdown",
   "metadata": {},
   "source": [
    "### ->Classification_Report"
   ]
  },
  {
   "cell_type": "code",
   "execution_count": 171,
   "metadata": {},
   "outputs": [
    {
     "name": "stdout",
     "output_type": "stream",
     "text": [
      "              precision    recall  f1-score   support\n",
      "\n",
      "           0       0.89      0.86      0.87        28\n",
      "           1       0.78      0.82      0.80        17\n",
      "\n",
      "    accuracy                           0.84        45\n",
      "   macro avg       0.83      0.84      0.84        45\n",
      "weighted avg       0.85      0.84      0.85        45\n",
      "\n"
     ]
    }
   ],
   "source": [
    "print(classification_report(y_test,y_predict))"
   ]
  },
  {
   "cell_type": "markdown",
   "metadata": {},
   "source": [
    "# 14.Cross_Validation"
   ]
  },
  {
   "cell_type": "code",
   "execution_count": 172,
   "metadata": {},
   "outputs": [
    {
     "data": {
      "text/plain": [
       "array([0.73913043, 0.86956522, 0.86956522, 0.91304348, 0.86363636,\n",
       "       0.72727273, 0.68181818, 0.90909091])"
      ]
     },
     "execution_count": 172,
     "metadata": {},
     "output_type": "execute_result"
    }
   ],
   "source": [
    "cross_val = cross_val_score(LogisticRegression(),X,y,cv=8)\n",
    "cross_val"
   ]
  },
  {
   "cell_type": "code",
   "execution_count": 173,
   "metadata": {},
   "outputs": [
    {
     "name": "stdout",
     "output_type": "stream",
     "text": [
      "maximum cross_val_score :  0.9130434782608695\n",
      "minimum cross_val_score :  0.6818181818181818\n",
      "average cross_val_score :  0.8216403162055336\n"
     ]
    }
   ],
   "source": [
    "print(\"maximum cross_val_score : \",cross_val.max())\n",
    "print(\"minimum cross_val_score : \",cross_val.min())\n",
    "print(\"average cross_val_score : \",cross_val.mean())"
   ]
  },
  {
   "cell_type": "markdown",
   "metadata": {},
   "source": [
    "Here we are getting cross_val score range is between 68% and 92% and getting an average 82% .Hence, our model is not overfitted\n",
    "and gives a good score regarding accuracy score as well as classification report"
   ]
  },
  {
   "cell_type": "markdown",
   "metadata": {},
   "source": [
    "#### for further consideration we are doing one more model regarding trees . ie,Random Forest "
   ]
  },
  {
   "cell_type": "markdown",
   "metadata": {},
   "source": [
    "# 14. Modelling using Random Forest"
   ]
  },
  {
   "cell_type": "code",
   "execution_count": 179,
   "metadata": {},
   "outputs": [],
   "source": [
    "model = RandomForestClassifier()\n",
    "model.fit(X_train,y_train)\n",
    "y_predit = model.predict(X_test)"
   ]
  },
  {
   "cell_type": "code",
   "execution_count": 180,
   "metadata": {
    "scrolled": true
   },
   "outputs": [
    {
     "data": {
      "text/plain": [
       "0.8444444444444444"
      ]
     },
     "execution_count": 180,
     "metadata": {},
     "output_type": "execute_result"
    }
   ],
   "source": [
    "accuracy_score(y_test,y_predict)"
   ]
  },
  {
   "cell_type": "markdown",
   "metadata": {},
   "source": [
    "here accuracy score is getting same as of logistic regression 84.4%"
   ]
  },
  {
   "cell_type": "markdown",
   "metadata": {},
   "source": [
    "## Cross_val_score"
   ]
  },
  {
   "cell_type": "code",
   "execution_count": 181,
   "metadata": {},
   "outputs": [
    {
     "data": {
      "text/plain": [
       "array([0.82608696, 0.65217391, 0.91304348, 0.91304348, 0.90909091,\n",
       "       0.77272727, 0.72727273, 0.77272727])"
      ]
     },
     "execution_count": 181,
     "metadata": {},
     "output_type": "execute_result"
    }
   ],
   "source": [
    "cross_val = cross_val_score(RandomForestClassifier(),X,y,cv=8)\n",
    "cross_val"
   ]
  },
  {
   "cell_type": "code",
   "execution_count": 182,
   "metadata": {},
   "outputs": [
    {
     "name": "stdout",
     "output_type": "stream",
     "text": [
      "maximum cross_val_score :  0.9130434782608695\n",
      "minimum cross_val_score :  0.6521739130434783\n",
      "average cross_val_score :  0.8107707509881422\n"
     ]
    }
   ],
   "source": [
    "print(\"maximum cross_val_score : \",cross_val.max())\n",
    "print(\"minimum cross_val_score : \",cross_val.min())\n",
    "print(\"average cross_val_score : \",cross_val.mean())"
   ]
  },
  {
   "cell_type": "markdown",
   "metadata": {},
   "source": [
    "Here we are getting cross_val score range is between 65% and 91% and getting an average 81% .Hence, our model is not overfitted\n",
    "and gives a good score regarding accuracy score as well as classification report"
   ]
  },
  {
   "cell_type": "markdown",
   "metadata": {},
   "source": [
    "## Grid_search_CV (Hyper_parameter_Tuning)"
   ]
  },
  {
   "cell_type": "markdown",
   "metadata": {},
   "source": [
    "grid search _cv is using for hyper parameter tuning to get a better parameters to load the model"
   ]
  },
  {
   "cell_type": "code",
   "execution_count": 218,
   "metadata": {},
   "outputs": [],
   "source": [
    "#creating a param grid of dictionary for loading the parameters\n",
    "params = { \"n_estimators\"      : [50,75,100,125,150],\n",
    "           \"random_state\"      : [10,13,23,40],\n",
    "           \"max_leaf_nodes\"    : [4,8,10,12],\n",
    "           \"min_samples_split\" : [2,4,6],\n",
    "           \"max_depth\"         : [5,7,9,11],\n",
    "           \"max_features\"      : [5,6,7,8,9]\n",
    "         }"
   ]
  },
  {
   "cell_type": "code",
   "execution_count": 1,
   "metadata": {},
   "outputs": [],
   "source": [
    "grid_score = GridSearchCV(RandomForestClassifier(),param_grid=params,verbose=2,scoring=\"accuracy\")\n",
    "grid_score.fit(X_train,y_train)"
   ]
  },
  {
   "cell_type": "code",
   "execution_count": 220,
   "metadata": {},
   "outputs": [
    {
     "data": {
      "text/plain": [
       "0.8148148148148149"
      ]
     },
     "execution_count": 220,
     "metadata": {},
     "output_type": "execute_result"
    }
   ],
   "source": [
    "grid_score.best_score_"
   ]
  },
  {
   "cell_type": "code",
   "execution_count": 221,
   "metadata": {},
   "outputs": [
    {
     "data": {
      "text/plain": [
       "{'max_depth': 5,\n",
       " 'max_features': 5,\n",
       " 'max_leaf_nodes': 8,\n",
       " 'min_samples_split': 6,\n",
       " 'n_estimators': 50,\n",
       " 'random_state': 13}"
      ]
     },
     "execution_count": 221,
     "metadata": {},
     "output_type": "execute_result"
    }
   ],
   "source": [
    "grid_score.best_params_"
   ]
  },
  {
   "cell_type": "markdown",
   "metadata": {},
   "source": [
    " While considering hyper parameter tuning random forest gives 82 % \n",
    "   "
   ]
  },
  {
   "cell_type": "markdown",
   "metadata": {},
   "source": [
    "# 15.Conclussion\n",
    "\n",
    "-> Hence comparing both logistic and random forest both gives same accuracy so, we desided to go with logistic model\n"
   ]
  },
  {
   "cell_type": "markdown",
   "metadata": {},
   "source": [
    "-> The data is small hence while using randomforest it may take more time than logistic model (because of n_estimators)"
   ]
  },
  {
   "cell_type": "markdown",
   "metadata": {},
   "source": [
    "-> While considering Logistic regression model 84% accuracy is a good score "
   ]
  },
  {
   "cell_type": "code",
   "execution_count": null,
   "metadata": {},
   "outputs": [],
   "source": []
  }
 ],
 "metadata": {
  "kernelspec": {
   "display_name": "Python 3",
   "language": "python",
   "name": "python3"
  },
  "language_info": {
   "codemirror_mode": {
    "name": "ipython",
    "version": 3
   },
   "file_extension": ".py",
   "mimetype": "text/x-python",
   "name": "python",
   "nbconvert_exporter": "python",
   "pygments_lexer": "ipython3",
   "version": "3.8.3"
  }
 },
 "nbformat": 4,
 "nbformat_minor": 4
}
